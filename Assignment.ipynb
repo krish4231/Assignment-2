{
  "nbformat": 4,
  "nbformat_minor": 0,
  "metadata": {
    "colab": {
      "provenance": []
    },
    "kernelspec": {
      "name": "python3",
      "display_name": "Python 3"
    },
    "language_info": {
      "name": "python"
    }
  },
  "cells": [
    {
      "cell_type": "markdown",
      "source": [
        "## **THEORITICAL QUESTIONS**"
      ],
      "metadata": {
        "id": "VWZdXfDUicpE"
      }
    },
    {
      "cell_type": "markdown",
      "source": [
        "Ans 1.\n",
        " Data structures are ways of organizing and storing data so that they can be accessed and manipulated.They are important because large amount of data can be easily managed using their different types such as lists, tuples, sets, dictioneries having their own ways.\n",
        "\n",
        "Ans 2.\n",
        "Mutable data types are the data types that can be changed or modified.For ex.Lists,Sets\n",
        "\n",
        "\n"
      ],
      "metadata": {
        "id": "WsCi4-dfiwQC"
      }
    },
    {
      "cell_type": "code",
      "source": [
        "a = [\"rahul\", 1, 3, True] #list\n",
        "a.append(\"roy\")\n",
        "a"
      ],
      "metadata": {
        "colab": {
          "base_uri": "https://localhost:8080/"
        },
        "id": "0isGKDPBkVv5",
        "outputId": "86b50359-1939-4e43-efd3-e4dbeeecc240"
      },
      "execution_count": 4,
      "outputs": [
        {
          "output_type": "execute_result",
          "data": {
            "text/plain": [
              "['rahul', 1, 3, True, 'roy']"
            ]
          },
          "metadata": {},
          "execution_count": 4
        }
      ]
    },
    {
      "cell_type": "markdown",
      "source": [
        "Immutable data types are the data types which can not be modified or changed.Ex.Tuples\n",
        "\n",
        "\n"
      ],
      "metadata": {
        "id": "9sqq-BNKk2bR"
      }
    },
    {
      "cell_type": "code",
      "source": [
        "b = (\"flower\",2, 3.2)#tuple\n",
        "b.remove(2)\n"
      ],
      "metadata": {
        "colab": {
          "base_uri": "https://localhost:8080/",
          "height": 162
        },
        "id": "7RAE0tAflQrw",
        "outputId": "39e7ca7a-4d5b-4ce4-c0c1-f67ddb09c9dd"
      },
      "execution_count": 5,
      "outputs": [
        {
          "output_type": "error",
          "ename": "AttributeError",
          "evalue": "'tuple' object has no attribute 'remove'",
          "traceback": [
            "\u001b[0;31m---------------------------------------------------------------------------\u001b[0m",
            "\u001b[0;31mAttributeError\u001b[0m                            Traceback (most recent call last)",
            "\u001b[0;32m<ipython-input-5-92c420efccab>\u001b[0m in \u001b[0;36m<cell line: 2>\u001b[0;34m()\u001b[0m\n\u001b[1;32m      1\u001b[0m \u001b[0mb\u001b[0m \u001b[0;34m=\u001b[0m \u001b[0;34m(\u001b[0m\u001b[0;34m\"flower\"\u001b[0m\u001b[0;34m,\u001b[0m\u001b[0;36m2\u001b[0m\u001b[0;34m,\u001b[0m \u001b[0;36m3.2\u001b[0m\u001b[0;34m)\u001b[0m\u001b[0;31m#tuple\u001b[0m\u001b[0;34m\u001b[0m\u001b[0;34m\u001b[0m\u001b[0m\n\u001b[0;32m----> 2\u001b[0;31m \u001b[0mb\u001b[0m\u001b[0;34m.\u001b[0m\u001b[0mremove\u001b[0m\u001b[0;34m(\u001b[0m\u001b[0;36m2\u001b[0m\u001b[0;34m)\u001b[0m\u001b[0;34m\u001b[0m\u001b[0;34m\u001b[0m\u001b[0m\n\u001b[0m",
            "\u001b[0;31mAttributeError\u001b[0m: 'tuple' object has no attribute 'remove'"
          ]
        }
      ]
    },
    {
      "cell_type": "markdown",
      "source": [
        "Ans 3.Main difference between list and tuples is that lists are mutable ie can be changed or modified and tuples can not be modified. And syntax for list is [] and for tuple is ().\n",
        "\n",
        "Ans 4.Dicitionaries have key value pairs where each key have its own unique value, syntax example for it is:\n",
        "c = {\"name\": \"rahul\", \"age\":23}\n",
        "\n",
        "Ans 5.We use sets instead of lists because of its feature of elimination of dublicates.\n",
        "\n",
        "Ans 6. String is used for **only** characters, is immutable while lists is mutable and can store all types of data like fraction, integers, characters,etc.\n",
        "\n",
        "Ans 7.Tuples are data structures which are immutable due to which data cannot be modified later.So Tuple ensure data integrity in python.\n",
        "\n",
        "Ans 8.Dictionaries are key value pairs, but for storing them hash function is used in which hash tables are used.\n",
        "\n",
        "Ans 9.Yes, lists can contain various types of data types such as characters, fractions, integers,etc.\n",
        "\n",
        "Ans 10.\n",
        "For maintaining data integrity, strings in python are immutable so that they cannot be changed or modified.\n",
        "\n",
        "Ans 11.\n",
        "Dictionaries are the key value pairs in which each key have its own unique value which lists don't have, also in dictionaries mapping can be done of the values using their keys.\n",
        "\n",
        "Ans 12.\n",
        "Generally, tuples are used for ensuring data integrity due to its immutability. For instance, there might be some important data which should not be modified or changed, so, there instead of lists tuples shall be used.\n",
        "\n",
        "Ans 13.\n",
        "Sets eliminate the duplicate values in python and also the same cannot be added.\n",
        "\n",
        "Ans 14.\n",
        "for dicitonary in checks the presence of key and in list it checks for the presene of its element.\n",
        "\n",
        "Ans 15.\n",
        "Elements of tuple cannot be modified because they are immutable. It ensures data integrity.\n",
        "\n",
        "Ans 16.\n",
        "In nested dictionary, we have dictionary within a dictionary. For example:\n",
        "a = {\n",
        "  \"s\" : {\"age\":22, \"group\":\"a\"}\n",
        "}\n",
        "\n",
        "Ans 17.\n",
        "o(1) time complexity is used for accessing the elements in dictionaries.\n",
        "\n",
        "Ans 18.\n",
        "For storing the elements , and for accesing them using index.\n",
        "\n",
        "Ans 19.\n",
        "\n",
        "\n",
        "Ans 20.\n",
        "In lists, data retreival can be done using indes\n",
        "while in dictionaries, the same of values is done using key."
      ],
      "metadata": {
        "id": "gXHKn0oglph0"
      }
    },
    {
      "cell_type": "markdown",
      "source": [
        "# **PRACTICAL QUESTIONS**"
      ],
      "metadata": {
        "id": "-D3CYjiA3_ln"
      }
    },
    {
      "cell_type": "code",
      "source": [
        "#Ans 1.\n",
        "name = \"krish\"\n",
        "print(name)"
      ],
      "metadata": {
        "colab": {
          "base_uri": "https://localhost:8080/"
        },
        "id": "losTQvN13-RB",
        "outputId": "6a7c51c8-88f9-4f36-b62b-35450c060bb7"
      },
      "execution_count": 1,
      "outputs": [
        {
          "output_type": "stream",
          "name": "stdout",
          "text": [
            "krish\n"
          ]
        }
      ]
    },
    {
      "cell_type": "code",
      "source": [
        "#Ans 2.\n",
        "a = \"hello world\"\n",
        "len(a)"
      ],
      "metadata": {
        "colab": {
          "base_uri": "https://localhost:8080/"
        },
        "id": "CUSaxeSQDXad",
        "outputId": "e3281a74-05ac-4067-8afe-a2fe6179557f"
      },
      "execution_count": 3,
      "outputs": [
        {
          "output_type": "execute_result",
          "data": {
            "text/plain": [
              "11"
            ]
          },
          "metadata": {},
          "execution_count": 3
        }
      ]
    },
    {
      "cell_type": "code",
      "source": [
        "#Ans 3.\n",
        "b = \"python programming\"\n",
        "b[0:3]"
      ],
      "metadata": {
        "colab": {
          "base_uri": "https://localhost:8080/",
          "height": 35
        },
        "id": "zKMJNRrHDjaI",
        "outputId": "85dee02a-b9c7-4706-dfe6-172677c48632"
      },
      "execution_count": 5,
      "outputs": [
        {
          "output_type": "execute_result",
          "data": {
            "text/plain": [
              "'pyt'"
            ],
            "application/vnd.google.colaboratory.intrinsic+json": {
              "type": "string"
            }
          },
          "metadata": {},
          "execution_count": 5
        }
      ]
    },
    {
      "cell_type": "code",
      "source": [
        "#Ans 4.\n",
        "c = \"hello\"\n",
        "c.upper()"
      ],
      "metadata": {
        "colab": {
          "base_uri": "https://localhost:8080/",
          "height": 35
        },
        "id": "lhhphFlLEALR",
        "outputId": "081a272a-ca96-4d13-e450-aa92c848a7d0"
      },
      "execution_count": 6,
      "outputs": [
        {
          "output_type": "execute_result",
          "data": {
            "text/plain": [
              "'HELLO'"
            ],
            "application/vnd.google.colaboratory.intrinsic+json": {
              "type": "string"
            }
          },
          "metadata": {},
          "execution_count": 6
        }
      ]
    },
    {
      "cell_type": "code",
      "source": [
        "#Ans 5.\n",
        "d = \"I like apple\"\n",
        "d = d.replace(\"apple\",\"orange\")\n",
        "d"
      ],
      "metadata": {
        "colab": {
          "base_uri": "https://localhost:8080/",
          "height": 35
        },
        "id": "DC6XPlDAEQfR",
        "outputId": "bfac02b0-e669-4f00-ee43-da4b5f34391f"
      },
      "execution_count": 8,
      "outputs": [
        {
          "output_type": "execute_result",
          "data": {
            "text/plain": [
              "'I like orange'"
            ],
            "application/vnd.google.colaboratory.intrinsic+json": {
              "type": "string"
            }
          },
          "metadata": {},
          "execution_count": 8
        }
      ]
    },
    {
      "cell_type": "code",
      "source": [
        "#Ans 6.\n",
        "a = [1,2,3,4,5]\n",
        "a"
      ],
      "metadata": {
        "colab": {
          "base_uri": "https://localhost:8080/"
        },
        "id": "yVdgR1FlEwoS",
        "outputId": "35047a91-ecf5-4baf-8e20-e4b9b637e111"
      },
      "execution_count": 9,
      "outputs": [
        {
          "output_type": "execute_result",
          "data": {
            "text/plain": [
              "[1, 2, 3, 4, 5]"
            ]
          },
          "metadata": {},
          "execution_count": 9
        }
      ]
    },
    {
      "cell_type": "code",
      "source": [
        "#Ans 7.\n",
        "a = [1,2,3,4]\n",
        "a.append(10)\n",
        "a"
      ],
      "metadata": {
        "colab": {
          "base_uri": "https://localhost:8080/"
        },
        "id": "ePU_iQv_E8Jx",
        "outputId": "57668658-f8d9-48aa-eacc-619ee105fbae"
      },
      "execution_count": 11,
      "outputs": [
        {
          "output_type": "execute_result",
          "data": {
            "text/plain": [
              "[1, 2, 3, 4, 10]"
            ]
          },
          "metadata": {},
          "execution_count": 11
        }
      ]
    },
    {
      "cell_type": "code",
      "source": [
        "#Ans 8.\n",
        "num = [1,2,3,4,5]\n",
        "num.remove(3)\n",
        "num"
      ],
      "metadata": {
        "colab": {
          "base_uri": "https://localhost:8080/"
        },
        "id": "N4wQrM-aFI6p",
        "outputId": "2d36d22a-98e5-445c-e08c-03e73e8ae1c2"
      },
      "execution_count": 13,
      "outputs": [
        {
          "output_type": "execute_result",
          "data": {
            "text/plain": [
              "[1, 2, 4, 5]"
            ]
          },
          "metadata": {},
          "execution_count": 13
        }
      ]
    },
    {
      "cell_type": "code",
      "source": [
        "#Ans 9.\n",
        "ch = [\"a\",\"b\",\"c\",\"d\"]\n",
        "ch[1]\n"
      ],
      "metadata": {
        "colab": {
          "base_uri": "https://localhost:8080/",
          "height": 35
        },
        "id": "MmCAZnSbFUSj",
        "outputId": "432e1fab-00ae-4e99-a03f-cd6ca6b35113"
      },
      "execution_count": 14,
      "outputs": [
        {
          "output_type": "execute_result",
          "data": {
            "text/plain": [
              "'b'"
            ],
            "application/vnd.google.colaboratory.intrinsic+json": {
              "type": "string"
            }
          },
          "metadata": {},
          "execution_count": 14
        }
      ]
    },
    {
      "cell_type": "code",
      "source": [
        "#Ans 10.\n",
        "a = [10,20,30,40,50]\n",
        "a.reverse()\n",
        "a"
      ],
      "metadata": {
        "colab": {
          "base_uri": "https://localhost:8080/"
        },
        "id": "W9vjr3DIFnzy",
        "outputId": "97343b25-9394-437e-8d56-80332b18c6f4"
      },
      "execution_count": 15,
      "outputs": [
        {
          "output_type": "execute_result",
          "data": {
            "text/plain": [
              "[50, 40, 30, 20, 10]"
            ]
          },
          "metadata": {},
          "execution_count": 15
        }
      ]
    },
    {
      "cell_type": "code",
      "source": [
        "#Ans 11.\n",
        "b = (10,20,30)\n",
        "b"
      ],
      "metadata": {
        "colab": {
          "base_uri": "https://localhost:8080/"
        },
        "id": "O3d9ycoJFwSM",
        "outputId": "943526e9-e5c7-4eb1-edac-94ca1262de70"
      },
      "execution_count": 16,
      "outputs": [
        {
          "output_type": "execute_result",
          "data": {
            "text/plain": [
              "(10, 20, 30)"
            ]
          },
          "metadata": {},
          "execution_count": 16
        }
      ]
    },
    {
      "cell_type": "code",
      "source": [
        "#Ans 12.\n",
        "c = (\"apple\",\"banana\",\"cherry\")\n",
        "c[1]"
      ],
      "metadata": {
        "colab": {
          "base_uri": "https://localhost:8080/",
          "height": 35
        },
        "id": "dv3caaYlGWk9",
        "outputId": "52441f32-1117-4638-d035-67e04008817d"
      },
      "execution_count": 17,
      "outputs": [
        {
          "output_type": "execute_result",
          "data": {
            "text/plain": [
              "'banana'"
            ],
            "application/vnd.google.colaboratory.intrinsic+json": {
              "type": "string"
            }
          },
          "metadata": {},
          "execution_count": 17
        }
      ]
    },
    {
      "cell_type": "code",
      "source": [
        "#Ans 13.\n",
        "d = (1,2,3,2,4,2)\n",
        "d.count(2)"
      ],
      "metadata": {
        "colab": {
          "base_uri": "https://localhost:8080/"
        },
        "id": "MipadMpgGhz8",
        "outputId": "25033d9d-b60c-4a01-b26c-2530e6ab36da"
      },
      "execution_count": 18,
      "outputs": [
        {
          "output_type": "execute_result",
          "data": {
            "text/plain": [
              "3"
            ]
          },
          "metadata": {},
          "execution_count": 18
        }
      ]
    },
    {
      "cell_type": "code",
      "source": [
        "#Ans 14.\n",
        "e = (\"dog\",\"cat\",\"rabbit\")\n",
        "e.index(\"cat\")"
      ],
      "metadata": {
        "colab": {
          "base_uri": "https://localhost:8080/"
        },
        "id": "k4IafjdaGzwJ",
        "outputId": "46b63bcf-15cc-4d27-d0f1-7254273e63bd"
      },
      "execution_count": 19,
      "outputs": [
        {
          "output_type": "execute_result",
          "data": {
            "text/plain": [
              "1"
            ]
          },
          "metadata": {},
          "execution_count": 19
        }
      ]
    },
    {
      "cell_type": "code",
      "source": [
        "#Ans 15.\n",
        "f = (\"apple\",\"orange\",\"banana\")\n",
        "\"banana\" in f"
      ],
      "metadata": {
        "colab": {
          "base_uri": "https://localhost:8080/"
        },
        "id": "aA84x1KWG-h9",
        "outputId": "831701af-20ef-464d-f86a-74d26cda1961"
      },
      "execution_count": 20,
      "outputs": [
        {
          "output_type": "execute_result",
          "data": {
            "text/plain": [
              "True"
            ]
          },
          "metadata": {},
          "execution_count": 20
        }
      ]
    },
    {
      "cell_type": "code",
      "source": [
        "#Ans 16.\n",
        "a = {1,2,3,4,5}\n",
        "a"
      ],
      "metadata": {
        "colab": {
          "base_uri": "https://localhost:8080/"
        },
        "id": "4kI15PTbHen1",
        "outputId": "24bddef1-840b-418f-f144-c94425c9dbc6"
      },
      "execution_count": 21,
      "outputs": [
        {
          "output_type": "execute_result",
          "data": {
            "text/plain": [
              "{1, 2, 3, 4, 5}"
            ]
          },
          "metadata": {},
          "execution_count": 21
        }
      ]
    },
    {
      "cell_type": "code",
      "source": [
        "#Ans 17.\n",
        "b = {1,2,3,4}\n",
        "b.add(6)\n",
        "b"
      ],
      "metadata": {
        "colab": {
          "base_uri": "https://localhost:8080/"
        },
        "id": "TEt5sQvtHnev",
        "outputId": "ac799ba0-2015-4ea6-f7d6-5379cd1ede02"
      },
      "execution_count": 22,
      "outputs": [
        {
          "output_type": "execute_result",
          "data": {
            "text/plain": [
              "{1, 2, 3, 4, 6}"
            ]
          },
          "metadata": {},
          "execution_count": 22
        }
      ]
    },
    {
      "cell_type": "code",
      "source": [
        "#Ans 18.\n",
        "c = (10,20,30)\n",
        "c"
      ],
      "metadata": {
        "colab": {
          "base_uri": "https://localhost:8080/"
        },
        "id": "5CnO1PzvHzHS",
        "outputId": "59ab3345-3962-48cc-c5f7-c7fb337d02f6"
      },
      "execution_count": 23,
      "outputs": [
        {
          "output_type": "execute_result",
          "data": {
            "text/plain": [
              "(10, 20, 30)"
            ]
          },
          "metadata": {},
          "execution_count": 23
        }
      ]
    },
    {
      "cell_type": "code",
      "source": [
        "#Ans 19.\n",
        "d = (\"apple\",\"banana\",\"cherry\")\n",
        "d[0]"
      ],
      "metadata": {
        "colab": {
          "base_uri": "https://localhost:8080/",
          "height": 35
        },
        "id": "7KhiYytuH9Je",
        "outputId": "0019f72a-b86c-4b8a-916d-73f7ec35a3f1"
      },
      "execution_count": 24,
      "outputs": [
        {
          "output_type": "execute_result",
          "data": {
            "text/plain": [
              "'apple'"
            ],
            "application/vnd.google.colaboratory.intrinsic+json": {
              "type": "string"
            }
          },
          "metadata": {},
          "execution_count": 24
        }
      ]
    },
    {
      "cell_type": "code",
      "source": [
        "#Ans 20.\n",
        "d = (1,2,3,2,4,2)\n",
        "d.count(2)"
      ],
      "metadata": {
        "colab": {
          "base_uri": "https://localhost:8080/"
        },
        "id": "1IaTLe-SIJHF",
        "outputId": "b555a390-9fe3-4b2b-f52b-b388fc0dc10e"
      },
      "execution_count": 25,
      "outputs": [
        {
          "output_type": "execute_result",
          "data": {
            "text/plain": [
              "3"
            ]
          },
          "metadata": {},
          "execution_count": 25
        }
      ]
    },
    {
      "cell_type": "code",
      "source": [
        "#Ans 21.\n",
        "e = (\"dog\",\"cat\",\"rabbit\")\n",
        "e.index(\"cat\")"
      ],
      "metadata": {
        "colab": {
          "base_uri": "https://localhost:8080/"
        },
        "id": "cp-Dh2fXIbfX",
        "outputId": "f871d654-adf3-4425-caa6-c55021e5f9dd"
      },
      "execution_count": 26,
      "outputs": [
        {
          "output_type": "execute_result",
          "data": {
            "text/plain": [
              "1"
            ]
          },
          "metadata": {},
          "execution_count": 26
        }
      ]
    },
    {
      "cell_type": "code",
      "source": [
        "#Ans 22.\n",
        "f = (\"apple\",\"orange\",\"banana\")\n",
        "\"banana\" in f"
      ],
      "metadata": {
        "colab": {
          "base_uri": "https://localhost:8080/"
        },
        "id": "ACxmBSyGItCy",
        "outputId": "c6fd1737-a207-45ff-9acc-d5cc8749f3ca"
      },
      "execution_count": 27,
      "outputs": [
        {
          "output_type": "execute_result",
          "data": {
            "text/plain": [
              "True"
            ]
          },
          "metadata": {},
          "execution_count": 27
        }
      ]
    },
    {
      "cell_type": "code",
      "source": [
        "#Ans 23.\n",
        "a = {1,2,3,4,5}\n",
        "a"
      ],
      "metadata": {
        "colab": {
          "base_uri": "https://localhost:8080/"
        },
        "id": "CrjnQca5I3io",
        "outputId": "c07b74d6-0da6-4936-af05-dd0ca6545d79"
      },
      "execution_count": 28,
      "outputs": [
        {
          "output_type": "execute_result",
          "data": {
            "text/plain": [
              "{1, 2, 3, 4, 5}"
            ]
          },
          "metadata": {},
          "execution_count": 28
        }
      ]
    },
    {
      "cell_type": "code",
      "source": [
        "#Ans 24.\n",
        "b = {1,2,3,4}\n",
        "b.add(6)\n",
        "b"
      ],
      "metadata": {
        "colab": {
          "base_uri": "https://localhost:8080/"
        },
        "id": "0XD_gsrAJBBr",
        "outputId": "6727e86b-dc9b-443a-aeaf-b5bff965477d"
      },
      "execution_count": 29,
      "outputs": [
        {
          "output_type": "execute_result",
          "data": {
            "text/plain": [
              "{1, 2, 3, 4, 6}"
            ]
          },
          "metadata": {},
          "execution_count": 29
        }
      ]
    }
  ]
}